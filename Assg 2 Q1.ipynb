{
 "cells": [
  {
   "cell_type": "code",
   "execution_count": 1,
   "metadata": {},
   "outputs": [
    {
     "name": "stdout",
     "output_type": "stream",
     "text": [
      "Enter Marks in English :\t50\n",
      "Enter Marks in Maths: \t50\n",
      "Enter Marks in Physics: \t50\n",
      "Enter Marks in Chemistry: \t50\n",
      "Enter Marks in Computer Science: \t50\n",
      "Grade C\n"
     ]
    }
   ],
   "source": [
    "eng=float(input(\"Enter Marks in English :\\t\"))\n",
    "math=float(input(\"Enter Marks in Maths: \\t\"))\n",
    "phy=float(input(\"Enter Marks in Physics: \\t\"))\n",
    "chm=float(input(\"Enter Marks in Chemistry: \\t\"))\n",
    "cs=float(input(\"Enter Marks in Computer Science: \\t\"))\n",
    "per=((eng+math+phy+chm+cs)/500)*100\n",
    "if per<40:\n",
    "    print('Grade F')\n",
    "elif 40<=per<50:\n",
    "    print('Grade D')\n",
    "elif 50<=per<60:\n",
    "    print('Grade C') \n",
    "elif 60<=per<70:\n",
    "    print('Grade B')\n",
    "elif 70<=per<80:\n",
    "    print('Grade A')\n",
    "elif 80<=per<90:\n",
    "    print('Grade A+')\n",
    "\n"
   ]
  },
  {
   "cell_type": "code",
   "execution_count": null,
   "metadata": {},
   "outputs": [],
   "source": []
  }
 ],
 "metadata": {
  "kernelspec": {
   "display_name": "Python 3",
   "language": "python",
   "name": "python3"
  },
  "language_info": {
   "codemirror_mode": {
    "name": "ipython",
    "version": 3
   },
   "file_extension": ".py",
   "mimetype": "text/x-python",
   "name": "python",
   "nbconvert_exporter": "python",
   "pygments_lexer": "ipython3",
   "version": "3.7.4"
  }
 },
 "nbformat": 4,
 "nbformat_minor": 2
}
